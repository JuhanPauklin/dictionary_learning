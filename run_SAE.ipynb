{
 "cells": [
  {
   "cell_type": "code",
   "execution_count": 11,
   "id": "e187ef6a",
   "metadata": {},
   "outputs": [],
   "source": [
    "import torch\n",
    "import matplotlib.pyplot as plt\n",
    "import matplotlib\n",
    "import numpy as np\n",
    "from transformers import AutoTokenizer, PreTrainedTokenizerFast\n",
    "from dictionary_learning import AutoEncoder\n",
    "from nnsight import LanguageModel\n",
    "from dictionary_learning.utils import read_csv\n",
    "from IPython.display import display, HTML"
   ]
  },
  {
   "cell_type": "code",
   "execution_count": 36,
   "id": "d22774d0",
   "metadata": {},
   "outputs": [],
   "source": [
    "import scipy.sparse\n",
    "from dictionary_learning.sparse_feature_writer import SparseFeatureWriter\n",
    "from scipy.sparse import csr_matrix\n",
    "import gc\n",
    "import h5py"
   ]
  },
  {
   "cell_type": "code",
   "execution_count": 13,
   "id": "61aae582",
   "metadata": {},
   "outputs": [
    {
     "name": "stderr",
     "output_type": "stream",
     "text": [
      "/gpfs/helios/home/jpauklin/dictionary_learning/dictionary_learning/dictionary.py:132: FutureWarning: You are using `torch.load` with `weights_only=False` (the current default value), which uses the default pickle module implicitly. It is possible to construct malicious pickle data which will execute arbitrary code during unpickling (See https://github.com/pytorch/pytorch/blob/main/SECURITY.md#untrusted-models for more details). In a future release, the default value for `weights_only` will be flipped to `True`. This limits the functions that could be executed during unpickling. Arbitrary objects will no longer be allowed to be loaded via this mode unless they are explicitly allowlisted by the user via `torch.serialization.add_safe_globals`. We recommend you start setting `weights_only=True` for any use case where you don't have full control of the loaded file. Please open an issue on GitHub for any issues related to this experimental feature.\n",
      "  state_dict = t.load(path)\n"
     ]
    }
   ],
   "source": [
    "# load autoencoder\n",
    "ae = AutoEncoder.from_pretrained(\"/gpfs/helios/home/jpauklin/dictionary_learning/saes/trainer_0/ae.pt\").to(\"cuda\") # to is rquired to load to GPU\n",
    "\n",
    "device = \"cuda:0\" #GPU\n",
    "# Load Model\n",
    "model_name = \"/gpfs/space/projects/stacc_health/gpt2_model/estMed-gpt2_fine_tuned4/estMed-gpt2_fine_tuned4\"\n",
    "model = LanguageModel(\n",
    "    model_name,\n",
    "    device_map=device,\n",
    ")\n",
    "\n",
    "activation_dim = model.transformer.h[0].ln_1.normalized_shape[0] # output dimension of the MLP = 768"
   ]
  },
  {
   "cell_type": "code",
   "execution_count": 14,
   "id": "3b09beae",
   "metadata": {},
   "outputs": [],
   "source": [
    "data = read_csv(\"/gpfs/space/projects/stacc_health/data-synthetic/100k_synthetic_texts.csv\", 16) # (csv_path, nr_of_text_batches_to_read)\n",
    "text = list(data) # list from iterator\n",
    "\n",
    "# TODO: Sparse matrix \n",
    "\n",
    "# TODO: praegu väheste andmetega korraga. 64 batchi korral OutOfMemory"
   ]
  },
  {
   "cell_type": "code",
   "execution_count": 15,
   "id": "6dab2247",
   "metadata": {},
   "outputs": [],
   "source": [
    "#text.append(\"See on test lause, mis on käsitsi lisatud.\")"
   ]
  },
  {
   "cell_type": "code",
   "execution_count": 16,
   "id": "edbc71bf",
   "metadata": {},
   "outputs": [],
   "source": [
    "tokenizer_filepath = \"/gpfs/space/projects/stacc_health/gpt2_model/estMed-gpt2_fine_tuned4/estMed-gpt2_fine_tuned4/tokenizer.json\"\n",
    "tokenizer = PreTrainedTokenizerFast(tokenizer_file=tokenizer_filepath)\n",
    "tokenizer.pad_token = \"<pad>\"\n",
    "\n",
    "# Padding to have batched tensors with the same length.    \n",
    "tokens = tokenizer(text, return_tensors=\"pt\", padding=True)   # , truncation=True\n"
   ]
  },
  {
   "cell_type": "code",
   "execution_count": 17,
   "id": "52cb4c77",
   "metadata": {},
   "outputs": [
    {
     "data": {
      "text/plain": [
       "'\\nIdee\\nÜkshaaval jälgida aktivatsioone. anda sisend üks batch haaval ette. Salvestada features (1 batchi kohta korraga) faili. \\n\\nSiht. Meil on kogu andmete kohta featurid. Saame otsida tugevaid aktivatsioone üle kõigi tokenite. \\nSaame kindla featuri kõik tugevaimad aktivatsioonid. \\n\\nMis faili formaat? txt või csv \\nFailis on batchid eraldatud üksteisest ridade kaupa.\\n\\nNäiteks leitakse tugev aktivatsioon ühes batchis. Lihtsaim viis teha, et terve batch loetakse ja ss kui on akt \\nsalvestatakse batch tulemusse. \\n'"
      ]
     },
     "execution_count": 17,
     "metadata": {},
     "output_type": "execute_result"
    }
   ],
   "source": [
    "\"\"\"\n",
    "Idee\n",
    "Ükshaaval jälgida aktivatsioone. anda sisend üks batch haaval ette. Salvestada features (1 batchi kohta korraga) faili. \n",
    "\n",
    "Siht. Meil on kogu andmete kohta featurid. Saame otsida tugevaid aktivatsioone üle kõigi tokenite. \n",
    "Saame kindla featuri kõik tugevaimad aktivatsioonid. \n",
    "\n",
    "Mis faili formaat? txt või csv \n",
    "Failis on batchid eraldatud üksteisest ridade kaupa.\n",
    "\n",
    "Näiteks leitakse tugev aktivatsioon ühes batchis. Lihtsaim viis teha, et terve batch loetakse ja ss kui on akt \n",
    "salvestatakse batch tulemusse. \n",
    "\"\"\""
   ]
  },
  {
   "cell_type": "code",
   "execution_count": 18,
   "id": "521ab880",
   "metadata": {},
   "outputs": [],
   "source": [
    "writer = SparseFeatureWriter(\"features/features.h5\")"
   ]
  },
  {
   "cell_type": "code",
   "execution_count": 34,
   "id": "1510055b",
   "metadata": {},
   "outputs": [],
   "source": [
    "for text_batch in text:\n",
    "    tokens = tokenizer(text_batch, return_tensors=\"pt\", padding=True)\n",
    "    with model.trace(tokens['input_ids'], tokens.get('attention_mask')) as tracer:\n",
    "    \n",
    "        # Selecting a specific layer to capture\n",
    "        mlp_output = model.transformer.h[11].mlp.c_proj.output.save()\n",
    "    \n",
    "    # The model is actually run upon exiting the tracing context. (https://nnsight.net/notebooks/tutorials/walkthrough/)\n",
    "    activations = mlp_output.value\n",
    "    features = ae.encode(activations)[0]\n",
    "    csr_batch = csr_matrix(features.detach().cpu().numpy())\n",
    "    writer.append(csr_batch)\n",
    "\n",
    "    torch.cuda.empty_cache() # Free up space\n",
    "    gc.collect()"
   ]
  },
  {
   "cell_type": "code",
   "execution_count": 38,
   "id": "2785945f",
   "metadata": {},
   "outputs": [],
   "source": [
    "with h5py.File(\"features/features.h5\", 'r') as f:\n",
    "    shape = f.attrs['shape']\n",
    "    full = csr_matrix((f['data'][:], f['indices'][:], f['indptr'][:]), shape=shape) # Create sparse row matrix from file"
   ]
  },
  {
   "cell_type": "code",
   "execution_count": 46,
   "id": "e7101594",
   "metadata": {},
   "outputs": [
    {
     "name": "stdout",
     "output_type": "stream",
     "text": [
      "['data', 'indices', 'indptr']\n"
     ]
    }
   ],
   "source": [
    "with h5py.File(\"features/features.h5\", 'r') as f:\n",
    "    print(list(f.keys()))"
   ]
  },
  {
   "cell_type": "code",
   "execution_count": 9,
   "id": "90c05c43",
   "metadata": {},
   "outputs": [
    {
     "name": "stderr",
     "output_type": "stream",
     "text": [
      "`loss_type=None` was set in the config but it is unrecognised.Using the default loss: `ForCausalLMLoss`.\n"
     ]
    }
   ],
   "source": [
    "# Using nnsight, we hook into one of the MLP's layer and inspect them during a forward pass.\n",
    "# This gets us the layer's activations (output of c_proj)\n",
    "\n",
    "# The \"with\" keyword starts a context-like object. It defines that we will run the model with tracing. \n",
    "with model.trace(tokens['input_ids'], tokens.get('attention_mask')) as tracer:\n",
    "    \n",
    "    # Selecting a specific layer to capture\n",
    "    mlp_output = model.transformer.h[11].mlp.c_proj.output.save()\n",
    "    \n",
    "# The model is actually run upon exiting the tracing context. (https://nnsight.net/notebooks/tutorials/walkthrough/)\n",
    "activations = mlp_output.value  # shape: (batch_size aka nr_of_inputs, seq_len , hidden_dim_activation_value)"
   ]
  },
  {
   "cell_type": "code",
   "execution_count": 10,
   "id": "585a876c",
   "metadata": {},
   "outputs": [],
   "source": [
    "features = ae.encode(activations) # get features from activations\n",
    "reconstructed_activations = ae.decode(features)"
   ]
  },
  {
   "cell_type": "code",
   "execution_count": null,
   "id": "d5be0595",
   "metadata": {},
   "outputs": [],
   "source": [
    "activations"
   ]
  },
  {
   "cell_type": "code",
   "execution_count": null,
   "id": "a0bf77f5",
   "metadata": {},
   "outputs": [],
   "source": [
    "reconstructed_activations"
   ]
  },
  {
   "cell_type": "code",
   "execution_count": null,
   "id": "d66fe47b",
   "metadata": {},
   "outputs": [],
   "source": [
    "features.size()"
   ]
  },
  {
   "cell_type": "code",
   "execution_count": null,
   "id": "2b51fe78",
   "metadata": {},
   "outputs": [],
   "source": [
    "type(features[0][0][0])"
   ]
  },
  {
   "cell_type": "code",
   "execution_count": null,
   "id": "ab7fed82",
   "metadata": {},
   "outputs": [],
   "source": [
    "def token_top_features(tokens, features, batch_idx):\n",
    "    # features shape: (batch_size, seq_len, num_features)\n",
    "    feature_activations_for_seq = features[batch_idx]\n",
    "\n",
    "    # Get corresponding tokens\n",
    "    input_tokens = tokens['input_ids'][batch_idx]\n",
    "\n",
    "    # For each token\n",
    "    for token_idx, token in enumerate(input_tokens):\n",
    "        decoded_token = tokenizer.decode(token)\n",
    "        print(f\"Token: {decoded_token}\")\n",
    "        feature_acts = feature_activations_for_seq[token_idx]\n",
    "\n",
    "        # Show top k most active features for token\n",
    "        topk = torch.topk(feature_acts, k=5)\n",
    "        print(f\"  Top features: {topk.indices.tolist()} with activations {topk.values.tolist()}\")"
   ]
  },
  {
   "cell_type": "code",
   "execution_count": null,
   "id": "9ab92c79",
   "metadata": {},
   "outputs": [],
   "source": [
    "token_top_features(tokens, features, 0)"
   ]
  },
  {
   "cell_type": "code",
   "execution_count": null,
   "id": "308ec20b",
   "metadata": {},
   "outputs": [],
   "source": [
    "# TODO: Funktsioon, mis leiab harva (kuid tugevasti) käivituvad feature'id."
   ]
  },
  {
   "cell_type": "code",
   "execution_count": null,
   "id": "baee0827",
   "metadata": {},
   "outputs": [],
   "source": [
    "# given a specific feature and a batch of input text, outputs the feature's activation value for each token.\n",
    "\n",
    "def feature_activations(tokens, features, batch_idx, feature_idx):\n",
    "    # features shape: (batch_size, seq_len, num_features)\n",
    "    feature_activations_for_seq = features[batch_idx]  # shape: (seq_len, num_features)\n",
    "\n",
    "    # Get corresponding tokens\n",
    "    input_tokens = tokens['input_ids'][batch_idx]\n",
    "\n",
    "    # Print given feature's activation value for each token\n",
    "    print(f\"Feature: {feature_idx}\")\n",
    "    for token_idx, token in enumerate(input_tokens):\n",
    "        decoded_token = tokenizer.decode(token)\n",
    "        #token_clean = decoded_token.replace(\"Ġ\", \"\")\n",
    "        feature_acts = features[batch_idx][token_idx]\n",
    "        print(f\"{decoded_token: >20} = {feature_acts[feature_idx]}\")"
   ]
  },
  {
   "cell_type": "code",
   "execution_count": null,
   "id": "32ea60ee",
   "metadata": {},
   "outputs": [],
   "source": [
    "feature_activations(tokens, features, 0, 2492)"
   ]
  },
  {
   "cell_type": "code",
   "execution_count": null,
   "id": "59c5e817",
   "metadata": {},
   "outputs": [],
   "source": [
    "def visualize_feature_activations(tokens, features, batch_idx, feature_idx):\n",
    "    # detach from computation graph. Move to CPU memory, since numpy only works on CPU tensors.\n",
    "    feature_activations = features[batch_idx, : , feature_idx].detach().cpu().numpy()\n",
    "\n",
    "    # Get corresponding tokens\n",
    "    input_tokens = tokens['input_ids'][batch_idx]\n",
    "    \n",
    "    # Color mapping\n",
    "    max_val = 30 \n",
    "    min_val = 0\n",
    "    forward = lambda x: x** (1/3) # function. Transforms the data values before applying the colormap.\n",
    "    inverse = lambda x: x**3 # function. Transforms from the normalized scale [0, 1] back to the original data space.\n",
    "    norm = matplotlib.colors.FuncNorm((forward, inverse), vmin=min_val, vmax=max_val) #(https://matplotlib.org/stable/users/explain/colors/colormapnorms.html)\n",
    "    #norm = matplotlib.colors.Normalize(vmin=min_val, vmax=max_val)\n",
    "    cmap = matplotlib.colormaps.get_cmap('Oranges')\n",
    "\n",
    "    # Build HTML with color highlighting\n",
    "    html = \"\"\n",
    "    for token, activation in zip(input_tokens, feature_activations): \n",
    "        decoded_token = tokenizer.decode(token)\n",
    "     \n",
    "        # TODO: Ei lisaks spani padding tokenite korral\n",
    "    \n",
    "        color = matplotlib.colors.rgb2hex(cmap(norm(activation)))\n",
    "        html += f'<span style=\"background-color:{color}; padding: 2px; margin: 2px; border-radius: 3px;\">{decoded_token}</span> '\n",
    "\n",
    "    display(HTML(html))"
   ]
  },
  {
   "cell_type": "code",
   "execution_count": null,
   "id": "41a402ee",
   "metadata": {},
   "outputs": [],
   "source": [
    "visualize_feature_activations(tokens, features, 0, 10684)"
   ]
  },
  {
   "cell_type": "code",
   "execution_count": null,
   "id": "cdd9243b",
   "metadata": {},
   "outputs": [],
   "source": [
    "# Note: Teha suur tulemustabel/fail, kus saab otsida, feature'eid, mis harva aktiveeruvad või tokenite järgi (terviseterminid)"
   ]
  }
 ],
 "metadata": {
  "kernelspec": {
   "display_name": "Python 3 (ipykernel)",
   "language": "python",
   "name": "python3"
  },
  "language_info": {
   "codemirror_mode": {
    "name": "ipython",
    "version": 3
   },
   "file_extension": ".py",
   "mimetype": "text/x-python",
   "name": "python",
   "nbconvert_exporter": "python",
   "pygments_lexer": "ipython3",
   "version": "3.10.16"
  }
 },
 "nbformat": 4,
 "nbformat_minor": 5
}
