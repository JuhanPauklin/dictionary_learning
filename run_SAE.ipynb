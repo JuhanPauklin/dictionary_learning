{
 "cells": [
  {
   "cell_type": "code",
   "execution_count": 1,
   "id": "e187ef6a",
   "metadata": {},
   "outputs": [],
   "source": [
    "import torch\n",
    "import matplotlib.pyplot as plt\n",
    "import matplotlib\n",
    "import numpy as np\n",
    "from transformers import AutoTokenizer, PreTrainedTokenizerFast, AutoModelForCausalLM, BitsAndBytesConfig\n",
    "from dictionary_learning import AutoEncoder\n",
    "from nnsight import LanguageModel\n",
    "from dictionary_learning.utils import read_csv\n",
    "from IPython.display import display, HTML"
   ]
  },
  {
   "cell_type": "code",
   "execution_count": 2,
   "id": "d22774d0",
   "metadata": {},
   "outputs": [],
   "source": [
    "import scipy.sparse\n",
    "from scipy.sparse import csr_matrix\n",
    "from dictionary_learning.sparse_feature_writer import SparseFeatureWriter\n",
    "\n",
    "import gc\n",
    "import h5py\n",
    "from collections import defaultdict\n",
    "\n",
    "from tqdm import tqdm"
   ]
  },
  {
   "cell_type": "code",
   "execution_count": 3,
   "id": "0e9d0576",
   "metadata": {},
   "outputs": [
    {
     "data": {
      "text/plain": [
       "100"
      ]
     },
     "execution_count": 3,
     "metadata": {},
     "output_type": "execute_result"
    }
   ],
   "source": [
    "# empty cache to free memory before any further action.\n",
    "torch.cuda.empty_cache() \n",
    "gc.collect()"
   ]
  },
  {
   "cell_type": "code",
   "execution_count": 4,
   "id": "9cf72ac7",
   "metadata": {},
   "outputs": [
    {
     "name": "stderr",
     "output_type": "stream",
     "text": [
      "/gpfs/helios/home/jpauklin/dictionary_learning/dictionary_learning/dictionary.py:132: FutureWarning: You are using `torch.load` with `weights_only=False` (the current default value), which uses the default pickle module implicitly. It is possible to construct malicious pickle data which will execute arbitrary code during unpickling (See https://github.com/pytorch/pytorch/blob/main/SECURITY.md#untrusted-models for more details). In a future release, the default value for `weights_only` will be flipped to `True`. This limits the functions that could be executed during unpickling. Arbitrary objects will no longer be allowed to be loaded via this mode unless they are explicitly allowlisted by the user via `torch.serialization.add_safe_globals`. We recommend you start setting `weights_only=True` for any use case where you don't have full control of the loaded file. Please open an issue on GitHub for any issues related to this experimental feature.\n",
      "  state_dict = t.load(path)\n"
     ]
    }
   ],
   "source": [
    "# load autoencoder\n",
    "ae = AutoEncoder.from_pretrained(\"/gpfs/helios/home/jpauklin/dictionary_learning/saes/estMedSaeX16layer5/trainer_0/ae_1105.pt\").to(\"cuda\") # to is rquired to load to GPU\n",
    "\n",
    "device = \"cuda:0\" #GPU\n",
    "# Load Model\n",
    "model_name = \"/gpfs/space/projects/stacc_health/gpt2_model/estMed-gpt2_fine_tuned4/estMed-gpt2_fine_tuned4\"\n",
    "model = LanguageModel(\n",
    "    model_name,\n",
    "    device_map=device,\n",
    ")\n",
    "\n",
    "activation_dim = model.transformer.h[0].ln_1.normalized_shape[0] # output dimension of the MLP = 768"
   ]
  },
  {
   "cell_type": "code",
   "execution_count": 5,
   "id": "3b09beae",
   "metadata": {},
   "outputs": [],
   "source": [
    "data = read_csv(\"/gpfs/space/projects/stacc_health/data-synthetic/100k_synthetic_texts.csv\", 100_000) # (csv_path, nr_of_text_batches_to_read)\n",
    "text = list(data)[50_000:] # list from iterator"
   ]
  },
  {
   "cell_type": "code",
   "execution_count": 6,
   "id": "edbc71bf",
   "metadata": {},
   "outputs": [],
   "source": [
    "tokenizer_filepath = \"/gpfs/space/projects/stacc_health/gpt2_model/estMed-gpt2_fine_tuned4/estMed-gpt2_fine_tuned4/tokenizer.json\"\n",
    "tokenizer = PreTrainedTokenizerFast(tokenizer_file=tokenizer_filepath)\n",
    "tokenizer.pad_token = \"<pad>\"\n",
    "\n",
    "# Padding to have batched tensors with the same length.    \n",
    "tokens = tokenizer(text, return_tensors=\"pt\", padding=True, truncation=True, max_length=128)\n"
   ]
  },
  {
   "cell_type": "code",
   "execution_count": 7,
   "id": "78813f19",
   "metadata": {},
   "outputs": [
    {
     "data": {
      "text/plain": [
       "\"\\n# Find the average length of input in tokens\\nsumma = 0\\nnr_of_batches = 100000\\nfor batch in tokens['input_ids'][:nr_of_batches]:\\n    paddings = 0\\n    for token in batch:\\n        if token == 50257:\\n            paddings += 1\\n    summa += len(batch) - paddings \\n\\nprint(summa/nr_of_batches)\\n\""
      ]
     },
     "execution_count": 7,
     "metadata": {},
     "output_type": "execute_result"
    }
   ],
   "source": [
    "\"\"\"\n",
    "# Find the average length of input in tokens\n",
    "summa = 0\n",
    "nr_of_batches = 100000\n",
    "for batch in tokens['input_ids'][:nr_of_batches]:\n",
    "    paddings = 0\n",
    "    for token in batch:\n",
    "        if token == 50257:\n",
    "            paddings += 1\n",
    "    summa += len(batch) - paddings \n",
    "\n",
    "print(summa/nr_of_batches)\n",
    "\"\"\""
   ]
  },
  {
   "cell_type": "code",
   "execution_count": 8,
   "id": "e6d94051",
   "metadata": {},
   "outputs": [
    {
     "name": "stdout",
     "output_type": "stream",
     "text": [
      "50000\n",
      "Input ids size 128\n"
     ]
    }
   ],
   "source": [
    "print(len(tokens['input_ids']))\n",
    "print(f\"Input ids size {len(tokens['input_ids'][0])}\")"
   ]
  },
  {
   "cell_type": "code",
   "execution_count": 9,
   "id": "521ab880",
   "metadata": {},
   "outputs": [],
   "source": [
    "h5file_path = \"features/featuresX16_L5_50000.h5\"\n",
    "batch_length = len(tokens['input_ids'][0])# the number of tokens in longest input batch\n",
    "writer = SparseFeatureWriter(h5file_path, batch_length)"
   ]
  },
  {
   "cell_type": "code",
   "execution_count": 10,
   "id": "19ab9064",
   "metadata": {},
   "outputs": [],
   "source": [
    "#writer.remove_from_index(10_000)"
   ]
  },
  {
   "cell_type": "code",
   "execution_count": 11,
   "id": "1510055b",
   "metadata": {},
   "outputs": [
    {
     "name": "stderr",
     "output_type": "stream",
     "text": [
      "Extracting features:   0%|          | 0/50000 [00:00<?, ?it/s]You're using a GPT2TokenizerFast tokenizer. Please note that with a fast tokenizer, using the `__call__` method is faster than using a method to encode the text followed by a call to the `pad` method to get a padded encoding.\n",
      "`loss_type=None` was set in the config but it is unrecognised.Using the default loss: `ForCausalLMLoss`.\n",
      "Extracting features: 100%|██████████| 50000/50000 [3:22:34<00:00,  4.11it/s]  \n"
     ]
    }
   ],
   "source": [
    "# tqdm adds a progress bar to the process\n",
    "for input_ids, attention_mask in tqdm(zip(tokens['input_ids'], tokens.get('attention_mask')), total=len(tokens['input_ids']), desc=\"Extracting features\"):    \n",
    "    # Using nnsight, we hook into one of the MLP's layer and inspect them during a forward pass.\n",
    "    # This gets us the layer's activations (output of c_proj)\n",
    "    with model.trace(input_ids, attention_mask) as tracer:\n",
    "    \n",
    "        # Selecting a specific layer to capture\n",
    "        mlp_output = model.transformer.h[5].mlp.c_proj.output.save()\n",
    "        # The model is actually run upon exiting the tracing context. (https://nnsight.net/notebooks/tutorials/walkthrough/)\n",
    "    \n",
    "    activations = mlp_output.value\n",
    "    features = ae.encode(activations)[0] # for each token a list of feature activations\n",
    "    \n",
    "    csr_batch = csr_matrix(features.detach().cpu().numpy()) # Compressed Sparse Row matrix from features (tensor -> numpy array)\n",
    "    writer.append(csr_batch, input_ids)\n",
    "\n",
    "    # Free up space\n",
    "    torch.cuda.empty_cache() \n",
    "    gc.collect()\n"
   ]
  }
 ],
 "metadata": {
  "kernelspec": {
   "display_name": "Python 3 (ipykernel)",
   "language": "python",
   "name": "python3"
  },
  "language_info": {
   "codemirror_mode": {
    "name": "ipython",
    "version": 3
   },
   "file_extension": ".py",
   "mimetype": "text/x-python",
   "name": "python",
   "nbconvert_exporter": "python",
   "pygments_lexer": "ipython3",
   "version": "3.10.16"
  }
 },
 "nbformat": 4,
 "nbformat_minor": 5
}
