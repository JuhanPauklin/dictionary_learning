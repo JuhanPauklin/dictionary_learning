{
 "cells": [
  {
   "cell_type": "code",
   "execution_count": 9,
   "id": "639db6aa",
   "metadata": {},
   "outputs": [],
   "source": [
    "from dictionary_learning.evaluation import evaluate\n",
    "\n",
    "import pandas as pd\n",
    "import torch as t\n",
    "from nnsight import LanguageModel\n",
    "from dictionary_learning import ActivationBuffer, AutoEncoder\n",
    "from dictionary_learning.trainers import StandardTrainer\n",
    "from dictionary_learning.training import trainSAE\n",
    "from dictionary_learning.utils import read_csv\n",
    "import gc"
   ]
  },
  {
   "cell_type": "code",
   "execution_count": 15,
   "id": "c8287e47",
   "metadata": {},
   "outputs": [
    {
     "data": {
      "text/plain": [
       "0"
      ]
     },
     "execution_count": 15,
     "metadata": {},
     "output_type": "execute_result"
    }
   ],
   "source": [
    "# empty cache to free memory before any further action.\n",
    "t.cuda.empty_cache() \n",
    "gc.collect()"
   ]
  },
  {
   "cell_type": "code",
   "execution_count": 3,
   "id": "f914de85",
   "metadata": {},
   "outputs": [
    {
     "name": "stderr",
     "output_type": "stream",
     "text": [
      "/gpfs/helios/home/jpauklin/dictionary_learning/dictionary_learning/dictionary.py:132: FutureWarning: You are using `torch.load` with `weights_only=False` (the current default value), which uses the default pickle module implicitly. It is possible to construct malicious pickle data which will execute arbitrary code during unpickling (See https://github.com/pytorch/pytorch/blob/main/SECURITY.md#untrusted-models for more details). In a future release, the default value for `weights_only` will be flipped to `True`. This limits the functions that could be executed during unpickling. Arbitrary objects will no longer be allowed to be loaded via this mode unless they are explicitly allowlisted by the user via `torch.serialization.add_safe_globals`. We recommend you start setting `weights_only=True` for any use case where you don't have full control of the loaded file. Please open an issue on GitHub for any issues related to this experimental feature.\n",
      "  state_dict = t.load(path)\n"
     ]
    }
   ],
   "source": [
    "ae_X16L11 = AutoEncoder.from_pretrained(\"/gpfs/helios/home/jpauklin/dictionary_learning/saes/estMedSaeX16/trainer_0/ae_1105.pt\").to(\"cuda\") # to is rquired to load to GPU\n",
    "ae_X16L5 = AutoEncoder.from_pretrained(\"/gpfs/helios/home/jpauklin/dictionary_learning/saes/estMedSaeX16layer5/trainer_0/ae_1105.pt\").to(\"cuda\") # to is rquired to load to GPU\n",
    "ae_X64_11 = AutoEncoder.from_pretrained(\"/gpfs/helios/home/jpauklin/dictionary_learning/saes/estMedSae170425/trainer_0/ae_0505.pt\").to(\"cuda\") # to is rquired to load to GPU"
   ]
  },
  {
   "cell_type": "code",
   "execution_count": 4,
   "id": "ba905ef2",
   "metadata": {},
   "outputs": [],
   "source": [
    "device = \"cuda:0\" #GPU\n",
    "# Load Model\n",
    "model_name = \"/gpfs/space/projects/stacc_health/gpt2_model/estMed-gpt2_fine_tuned4/estMed-gpt2_fine_tuned4\"\n",
    "model = LanguageModel(\n",
    "    model_name,\n",
    "    device_map=device,\n",
    ")\n",
    "\n",
    "activation_dim = model.transformer.h[0].ln_1.normalized_shape[0] # output dimension of the MLP = 768\n"
   ]
  },
  {
   "cell_type": "code",
   "execution_count": 5,
   "id": "61bfafad",
   "metadata": {},
   "outputs": [
    {
     "name": "stderr",
     "output_type": "stream",
     "text": [
      "You're using a GPT2TokenizerFast tokenizer. Please note that with a fast tokenizer, using the `__call__` method is faster than using a method to encode the text followed by a call to the `pad` method to get a padded encoding.\n"
     ]
    }
   ],
   "source": [
    "submodule = model.transformer.h[11].mlp \n",
    "\n",
    "data = read_csv(\"/gpfs/space/projects/stacc_health/data-synthetic/100k_synthetic_texts.csv\", 100_000)\n",
    "buffer = ActivationBuffer( # buffer will yield batches of tensors of dimension = submodule's output dimension\n",
    "    data=data,\n",
    "    model=model,\n",
    "    submodule=submodule,\n",
    "    d_submodule=activation_dim, # output dimension of the model component\n",
    "    n_ctxs=3e4,  # length of each context. you can set this higher or lower dependong on your available memory\n",
    "    device=device,\n",
    "    out_batch_size = 2048 # reduce batch size to limit memory usage.\n",
    ")\n",
    "\n",
    "out_ae_X16L11 = evaluate(dictionary = ae_X16L11, \n",
    "               activations = buffer,\n",
    "               device = device,\n",
    "              )"
   ]
  },
  {
   "cell_type": "code",
   "execution_count": 12,
   "id": "7e3a035a",
   "metadata": {},
   "outputs": [],
   "source": [
    "submodule = model.transformer.h[5].mlp \n",
    "\n",
    "data = read_csv(\"/gpfs/space/projects/stacc_health/data-synthetic/100k_synthetic_texts.csv\", 100_000)\n",
    "buffer = ActivationBuffer( # buffer will yield batches of tensors of dimension = submodule's output dimension\n",
    "    data=data,\n",
    "    model=model,\n",
    "    submodule=submodule,\n",
    "    d_submodule=activation_dim, # output dimension of the model component\n",
    "    n_ctxs=3e4,  # length of each context. you can set this higher or lower dependong on your available memory\n",
    "    device=device,\n",
    "    out_batch_size = 2048 # reduce batch size to limit memory usage.\n",
    ")\n",
    "\n",
    "out_ae_X16L5 = evaluate(dictionary = ae_X16L5, \n",
    "               activations = buffer,\n",
    "               device = device,\n",
    "              )"
   ]
  },
  {
   "cell_type": "code",
   "execution_count": 16,
   "id": "4e58bc1f",
   "metadata": {},
   "outputs": [],
   "source": [
    "submodule = model.transformer.h[11].mlp \n",
    "\n",
    "data = read_csv(\"/gpfs/space/projects/stacc_health/data-synthetic/100k_synthetic_texts.csv\", 100_000)\n",
    "buffer = ActivationBuffer( # buffer will yield batches of tensors of dimension = submodule's output dimension\n",
    "    data=data,\n",
    "    model=model,\n",
    "    submodule=submodule,\n",
    "    d_submodule=activation_dim, # output dimension of the model component\n",
    "    n_ctxs=3e4,  # length of each context. you can set this higher or lower dependong on your available memory\n",
    "    device=device,\n",
    "    out_batch_size = 2048 # reduce batch size to limit memory usage.\n",
    ")\n",
    "\n",
    "out_ae_X64L11 = evaluate(dictionary = ae_X64_11, \n",
    "               activations = buffer,\n",
    "               device = device,\n",
    "              )"
   ]
  },
  {
   "cell_type": "code",
   "execution_count": null,
   "id": "490738f9",
   "metadata": {},
   "outputs": [],
   "source": [
    "\"\"\"\n",
    "    MSE loss: average squared L2 distance between an activation and the autoencoder's reconstruction of it\n",
    "    L1 loss: a measure of the autoencoder's sparsity\n",
    "    L0: average number of features active above a random token\n",
    "    Percentage of neurons alive: fraction of the dictionary features which are active on at least one token out of dictionary.dict_size random tokens\n",
    "    \n",
    "    CE diff: difference between the usual cross-entropy loss of the model for next token prediction and the cross entropy when replacing activations with our dictionary's reconstruction\n",
    "    Percentage of CE loss recovered: when replacing the activation with the dictionary's reconstruction, the percentage of the model's cross-entropy loss on next token prediction that is recovered (relative to the baseline of zero ablating the activation)\n",
    "\"\"\""
   ]
  },
  {
   "cell_type": "code",
   "execution_count": 8,
   "id": "b2572080",
   "metadata": {},
   "outputs": [
    {
     "data": {
      "text/plain": [
       "{'l2_loss': 5.667590141296387,\n",
       " 'l1_loss': 19.95207977294922,\n",
       " 'l0': 43.54638671875,\n",
       " 'frac_variance_explained': 0.7986932992935181,\n",
       " 'cossim': 0.8762193322181702,\n",
       " 'l2_ratio': 0.7574641704559326,\n",
       " 'relative_reconstruction_bias': 0.9113766551017761,\n",
       " 'loss_original': 4.567016124725342,\n",
       " 'loss_reconstructed': 4.580355644226074,\n",
       " 'loss_zero': 4.4883832931518555,\n",
       " 'frac_recovered': 1.1696431636810303,\n",
       " 'frac_alive': 0.6610514521598816}"
      ]
     },
     "execution_count": 8,
     "metadata": {},
     "output_type": "execute_result"
    }
   ],
   "source": [
    "out_ae_X16L11"
   ]
  },
  {
   "cell_type": "code",
   "execution_count": 14,
   "id": "ed4639e6",
   "metadata": {},
   "outputs": [
    {
     "data": {
      "text/plain": [
       "{'l2_loss': 2.1785030364990234,\n",
       " 'l1_loss': 8.521507263183594,\n",
       " 'l0': 29.810546875,\n",
       " 'frac_variance_explained': 0.7897974252700806,\n",
       " 'cossim': 0.8987048864364624,\n",
       " 'l2_ratio': 0.7879399657249451,\n",
       " 'relative_reconstruction_bias': 0.8931994438171387,\n",
       " 'loss_original': 4.567016124725342,\n",
       " 'loss_reconstructed': 4.534842491149902,\n",
       " 'loss_zero': 4.641909122467041,\n",
       " 'frac_recovered': 1.42959463596344,\n",
       " 'frac_alive': 0.5171712636947632}"
      ]
     },
     "execution_count": 14,
     "metadata": {},
     "output_type": "execute_result"
    }
   ],
   "source": [
    "out_ae_X16L5"
   ]
  },
  {
   "cell_type": "code",
   "execution_count": 17,
   "id": "b77a1906",
   "metadata": {},
   "outputs": [
    {
     "data": {
      "text/plain": [
       "{'l2_loss': 5.583471298217773,\n",
       " 'l1_loss': 19.707857131958008,\n",
       " 'l0': 41.681640625,\n",
       " 'frac_variance_explained': 0.8173326849937439,\n",
       " 'cossim': 0.8841896057128906,\n",
       " 'l2_ratio': 0.7713171243667603,\n",
       " 'relative_reconstruction_bias': 0.9197777509689331,\n",
       " 'loss_original': 4.567016124725342,\n",
       " 'loss_reconstructed': 4.560064315795898,\n",
       " 'loss_zero': 4.4883832931518555,\n",
       " 'frac_recovered': 0.9115915298461914,\n",
       " 'frac_alive': 0.2857869565486908}"
      ]
     },
     "execution_count": 17,
     "metadata": {},
     "output_type": "execute_result"
    }
   ],
   "source": [
    "out_ae_X64L11"
   ]
  }
 ],
 "metadata": {
  "kernelspec": {
   "display_name": "Python 3 (ipykernel)",
   "language": "python",
   "name": "python3"
  },
  "language_info": {
   "codemirror_mode": {
    "name": "ipython",
    "version": 3
   },
   "file_extension": ".py",
   "mimetype": "text/x-python",
   "name": "python",
   "nbconvert_exporter": "python",
   "pygments_lexer": "ipython3",
   "version": "3.10.16"
  }
 },
 "nbformat": 4,
 "nbformat_minor": 5
}
