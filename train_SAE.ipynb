{
 "cells": [
  {
   "cell_type": "code",
   "execution_count": 4,
   "id": "c3329190",
   "metadata": {},
   "outputs": [],
   "source": [
    "import pandas as pd\n",
    "import torch as t\n",
    "from nnsight import LanguageModel\n",
    "from dictionary_learning import ActivationBuffer, AutoEncoder\n",
    "from dictionary_learning.trainers import StandardTrainer\n",
    "from dictionary_learning.training import trainSAE\n",
    "from dictionary_learning.utils import read_csv"
   ]
  },
  {
   "cell_type": "code",
   "execution_count": 5,
   "id": "1b257881",
   "metadata": {},
   "outputs": [],
   "source": [
    "# data must be an iterator that outputs strings\n",
    "data = read_csv(\"/gpfs/space/projects/stacc_health/data-synthetic/100k_synthetic_texts.csv\")"
   ]
  },
  {
   "cell_type": "code",
   "execution_count": 6,
   "id": "4c3fb691",
   "metadata": {},
   "outputs": [],
   "source": [
    "device = \"cuda:0\"\n",
    "model_name = \"/gpfs/space/projects/stacc_health/gpt2_model/estMed-gpt2_fine_tuned4/estMed-gpt2_fine_tuned4\" \n",
    "\n",
    "model = LanguageModel(\n",
    "    model_name,\n",
    "    device_map=device,\n",
    ")\n",
    "submodule = model.transformer.h[11].mlp\n",
    "activation_dim = model.transformer.h[0].ln_1.normalized_shape[0] # output dimension of the MLP = 768\n",
    "dictionary_size = 8 * activation_dim\n",
    "\n",
    "buffer = ActivationBuffer( # buffer will yield batches of tensors of dimension = submodule's output dimension\n",
    "    data=data,\n",
    "    model=model,\n",
    "    submodule=submodule,\n",
    "    d_submodule=activation_dim, # output dimension of the model component\n",
    "    n_ctxs=3e4,  # length of each context. you can set this higher or lower dependong on your available memory\n",
    "    device=device,\n",
    ")  "
   ]
  },
  {
   "cell_type": "code",
   "execution_count": 7,
   "id": "f4830cbe",
   "metadata": {},
   "outputs": [
    {
     "data": {
      "text/plain": [
       "GPT2LMHeadModel(\n",
       "  (transformer): GPT2Model(\n",
       "    (wte): Embedding(50258, 768)\n",
       "    (wpe): Embedding(1024, 768)\n",
       "    (drop): Dropout(p=0.1, inplace=False)\n",
       "    (h): ModuleList(\n",
       "      (0-11): 12 x GPT2Block(\n",
       "        (ln_1): LayerNorm((768,), eps=1e-05, elementwise_affine=True)\n",
       "        (attn): GPT2Attention(\n",
       "          (c_attn): Conv1D()\n",
       "          (c_proj): Conv1D()\n",
       "          (attn_dropout): Dropout(p=0.1, inplace=False)\n",
       "          (resid_dropout): Dropout(p=0.1, inplace=False)\n",
       "        )\n",
       "        (ln_2): LayerNorm((768,), eps=1e-05, elementwise_affine=True)\n",
       "        (mlp): GPT2MLP(\n",
       "          (c_fc): Conv1D()\n",
       "          (c_proj): Conv1D()\n",
       "          (act): NewGELUActivation()\n",
       "          (dropout): Dropout(p=0.1, inplace=False)\n",
       "        )\n",
       "      )\n",
       "    )\n",
       "    (ln_f): LayerNorm((768,), eps=1e-05, elementwise_affine=True)\n",
       "  )\n",
       "  (lm_head): Linear(in_features=768, out_features=50258, bias=False)\n",
       "  (generator): WrapperModule()\n",
       ")"
      ]
     },
     "execution_count": 7,
     "metadata": {},
     "output_type": "execute_result"
    }
   ],
   "source": [
    "model"
   ]
  },
  {
   "cell_type": "code",
   "execution_count": 8,
   "id": "4c9aad53",
   "metadata": {},
   "outputs": [],
   "source": [
    "# CONFIG\n",
    "num_tokens = 50_000_000 # numbrid pärit dictionary_learning_demo/demo_config.py-st\n",
    "sae_batch_size = 2048\n",
    "steps = int(num_tokens / sae_batch_size) # Total number of batches to train\n",
    "log_steps = 100  # Log the training on wandb or print to console every log_steps\n",
    "\n",
    "save_checkpoints = True\n",
    "save_dir = \"./saes/estMedSae170425\""
   ]
  },
  {
   "cell_type": "code",
   "execution_count": 9,
   "id": "24e56439",
   "metadata": {},
   "outputs": [],
   "source": [
    "trainer_cfg = {\n",
    "    \"trainer\": StandardTrainer,\n",
    "    \"dict_class\": AutoEncoder,\n",
    "    \"activation_dim\": activation_dim,\n",
    "    \"dict_size\": dictionary_size,\n",
    "    \"lr\": 1e-3,\n",
    "    \"device\": device,\n",
    "    \n",
    "    \"steps\" : steps,\n",
    "    \"lm_name\" : model_name,\n",
    "    \"layer\" : 11,\n",
    "    \n",
    "}"
   ]
  },
  {
   "cell_type": "code",
   "execution_count": 8,
   "id": "469122aa",
   "metadata": {},
   "outputs": [
    {
     "name": "stdout",
     "output_type": "stream",
     "text": [
      "desired_checkpoints: [0.0, 0.0010000000474974513, 0.003162277629598975, 0.009999999776482582, 0.03162277489900589, 0.10000000149011612, 0.3162277638912201]\n",
      "save_steps: [0, 24, 77, 244, 772, 2441, 7720]\n"
     ]
    }
   ],
   "source": [
    "if save_checkpoints:\n",
    "    # Creates checkpoints at 0.0%, 0.1%, 0.316%, 1%, 3.16%, 10%, 31.6%, 100% of training\n",
    "    desired_checkpoints = t.logspace(-3, 0, 7).tolist()\n",
    "    desired_checkpoints = [0.0] + desired_checkpoints[:-1]\n",
    "    desired_checkpoints.sort()\n",
    "    print(f\"desired_checkpoints: {desired_checkpoints}\")\n",
    "\n",
    "    save_steps = [int(steps * step) for step in desired_checkpoints]\n",
    "    save_steps.sort()\n",
    "    print(f\"save_steps: {save_steps}\")\n",
    "else:\n",
    "    save_steps = None"
   ]
  },
  {
   "cell_type": "code",
   "execution_count": 9,
   "id": "9a960331",
   "metadata": {},
   "outputs": [
    {
     "name": "stdout",
     "output_type": "stream",
     "text": [
      "12042025\n"
     ]
    },
    {
     "name": "stderr",
     "output_type": "stream",
     "text": [
      "  0%|          | 0/24414 [00:00<?, ?it/s]You're using a GPT2TokenizerFast tokenizer. Please note that with a fast tokenizer, using the `__call__` method is faster than using a method to encode the text followed by a call to the `pad` method to get a padded encoding.\n",
      "100%|██████████| 24414/24414 [41:19<00:00,  9.85it/s] \n"
     ]
    }
   ],
   "source": [
    "if (\"trainer\" not in trainer_cfg): # trainer field gets deleted during trainSAE\n",
    "    trainer_cfg = {\n",
    "    \"trainer\": StandardTrainer,\n",
    "    \"dict_class\": AutoEncoder,\n",
    "    \"activation_dim\": activation_dim,\n",
    "    \"dict_size\": dictionary_size,\n",
    "    \"lr\": 1e-3,\n",
    "    \"device\": device,\n",
    "    \n",
    "    \"steps\" : int(num_tokens / sae_batch_size), # Total number of batches to train\n",
    "    \"lm_name\" : model_name,\n",
    "    }\n",
    "    \n",
    "# train the sparse autoencoder (SAE)\n",
    "ae = trainSAE(\n",
    "    data=buffer,  # you could also use another (i.e. pytorch dataloader) here instead of buffer\n",
    "    trainer_configs=[trainer_cfg],\n",
    "    save_steps=save_steps,\n",
    "    save_dir=save_dir,\n",
    "    log_steps=log_steps,\n",
    "    steps=steps,\n",
    "    autocast_dtype=t.bfloat16, # new\n",
    "    normalize_activations=True,\n",
    "    resample_steps\n",
    ")\n"
   ]
  },
  {
   "cell_type": "code",
   "execution_count": 10,
   "id": "2a2ac48e",
   "metadata": {
    "scrolled": true
   },
   "outputs": [
    {
     "data": {
      "text/plain": [
       "' from dictionary_learning_demo/demo.py\\n        trainSAE(\\n            data=activation_buffer,\\n            trainer_configs=trainer_configs,\\n            use_wandb=use_wandb,\\n            steps=steps,\\n            save_steps=save_steps,\\n            save_dir=save_dir,\\n            log_steps=log_steps,\\n            wandb_project=demo_config.wandb_project,\\n            normalize_activations=True,\\n            verbose=False,\\n            autocast_dtype=t.bfloat16,\\n        )\\n'"
      ]
     },
     "execution_count": 10,
     "metadata": {},
     "output_type": "execute_result"
    }
   ],
   "source": [
    "\n",
    "\"\"\" from dictionary_learning_demo/demo.py\n",
    "        trainSAE(\n",
    "            data=activation_buffer,\n",
    "            trainer_configs=trainer_configs,\n",
    "            use_wandb=use_wandb,\n",
    "            steps=steps,\n",
    "            save_steps=save_steps,\n",
    "            save_dir=save_dir,\n",
    "            log_steps=log_steps,\n",
    "            wandb_project=demo_config.wandb_project,\n",
    "            normalize_activations=True,\n",
    "            verbose=False,\n",
    "            autocast_dtype=t.bfloat16,\n",
    "        )\n",
    "\"\"\""
   ]
  }
 ],
 "metadata": {
  "kernelspec": {
   "display_name": "Python 3 (ipykernel)",
   "language": "python",
   "name": "python3"
  },
  "language_info": {
   "codemirror_mode": {
    "name": "ipython",
    "version": 3
   },
   "file_extension": ".py",
   "mimetype": "text/x-python",
   "name": "python",
   "nbconvert_exporter": "python",
   "pygments_lexer": "ipython3",
   "version": "3.10.16"
  }
 },
 "nbformat": 4,
 "nbformat_minor": 5
}
