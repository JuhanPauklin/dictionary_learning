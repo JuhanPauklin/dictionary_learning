{
 "cells": [
  {
   "cell_type": "code",
   "execution_count": 1,
   "id": "c3329190",
   "metadata": {},
   "outputs": [],
   "source": [
    "import pandas as pd\n",
    "import torch as t\n",
    "from nnsight import LanguageModel\n",
    "from dictionary_learning import ActivationBuffer, AutoEncoder\n",
    "from dictionary_learning.trainers import StandardTrainer, StandardTrainerAprilUpdate\n",
    "from dictionary_learning.training import trainSAE\n",
    "from dictionary_learning.utils import read_csv\n",
    "import gc"
   ]
  },
  {
   "cell_type": "code",
   "execution_count": 2,
   "id": "86b65a6d",
   "metadata": {},
   "outputs": [
    {
     "data": {
      "text/plain": [
       "0"
      ]
     },
     "execution_count": 2,
     "metadata": {},
     "output_type": "execute_result"
    }
   ],
   "source": [
    "# empty cache to free memory before any further action.\n",
    "t.cuda.empty_cache() \n",
    "gc.collect()"
   ]
  },
  {
   "cell_type": "code",
   "execution_count": 10,
   "id": "1b257881",
   "metadata": {},
   "outputs": [],
   "source": [
    "# data must be an iterator that outputs strings\n",
    "data = read_csv(\"/gpfs/space/projects/stacc_health/data-synthetic/100k_synthetic_texts.csv\")"
   ]
  },
  {
   "cell_type": "code",
   "execution_count": 11,
   "id": "4c3fb691",
   "metadata": {},
   "outputs": [],
   "source": [
    "device = \"cuda:0\"\n",
    "model_name = \"/gpfs/space/projects/stacc_health/gpt2_model/estMed-gpt2_fine_tuned4/estMed-gpt2_fine_tuned4\" \n",
    "\n",
    "# Lisada loss visualiseerimine\n",
    "\n",
    "model = LanguageModel(\n",
    "    model_name,\n",
    "    device_map=device,\n",
    ")\n",
    "submodule = model.transformer.h[5].mlp # Take the output of the model's 12th mlp block.\n",
    "activation_dim = model.transformer.h[0].ln_1.normalized_shape[0] # output dimension of the MLP = 768\n",
    "dictionary_size = 16 * activation_dim # 12_288 features\n",
    "\n",
    "buffer = ActivationBuffer( # buffer will yield batches of tensors of dimension = submodule's output dimension\n",
    "    data=data,\n",
    "    model=model,\n",
    "    submodule=submodule,\n",
    "    d_submodule=activation_dim, # output dimension of the model component\n",
    "    n_ctxs=3e4,  # length of each context. you can set this higher or lower dependong on your available memory\n",
    "    device=device,\n",
    ")  "
   ]
  },
  {
   "cell_type": "code",
   "execution_count": 12,
   "id": "93f69176",
   "metadata": {},
   "outputs": [
    {
     "name": "stdout",
     "output_type": "stream",
     "text": [
      "Enter SAE saving folder (estMedSae<date>): estMedSaeX16layer5\n"
     ]
    }
   ],
   "source": [
    "saeSaveName = input(\"Enter SAE saving folder (estMedSae<date>): \")"
   ]
  },
  {
   "cell_type": "code",
   "execution_count": 13,
   "id": "4c9aad53",
   "metadata": {},
   "outputs": [],
   "source": [
    "# CONFIG\n",
    "num_tokens = 50_000_000 # numbrid pärit dictionary_learning_demo/demo_config.py-st\n",
    "sae_batch_size = 3072\n",
    "steps = int(num_tokens / sae_batch_size) # Total number of batches to train\n",
    "log_steps = 1000  # Log the training on wandb or print to console every log_steps\n",
    "\n",
    "save_checkpoints = True\n",
    "save_dir = \"./saes/\" + saeSaveName\n",
    "trainer_class = StandardTrainer"
   ]
  },
  {
   "cell_type": "code",
   "execution_count": 14,
   "id": "24e56439",
   "metadata": {},
   "outputs": [],
   "source": [
    "trainer_cfg = {\n",
    "    \"trainer\": trainer_class,\n",
    "    \"dict_class\": AutoEncoder,\n",
    "    \"activation_dim\": activation_dim,\n",
    "    \"dict_size\": dictionary_size,\n",
    "    \"lr\": 1e-3,\n",
    "    \"device\": device,\n",
    "    \n",
    "    \"steps\" : steps,\n",
    "    \"lm_name\" : model_name,\n",
    "    \"layer\" : 5,\n",
    "    \n",
    "}"
   ]
  },
  {
   "cell_type": "code",
   "execution_count": 15,
   "id": "469122aa",
   "metadata": {},
   "outputs": [
    {
     "name": "stdout",
     "output_type": "stream",
     "text": [
      "desired_checkpoints: [0.0, 0.0010000000474974513, 0.003162277629598975, 0.009999999776482582, 0.03162277489900589, 0.10000000149011612, 0.3162277638912201]\n",
      "save_steps: [0, 16, 51, 162, 514, 1627, 5146]\n"
     ]
    }
   ],
   "source": [
    "if save_checkpoints:\n",
    "    # Creates checkpoints at 0.0%, 0.1%, 0.316%, 1%, 3.16%, 10%, 31.6%, 100% of training\n",
    "    desired_checkpoints = t.logspace(-3, 0, 7).tolist()\n",
    "    desired_checkpoints = [0.0] + desired_checkpoints[:-1]\n",
    "    desired_checkpoints.sort()\n",
    "    print(f\"desired_checkpoints: {desired_checkpoints}\")\n",
    "\n",
    "    save_steps = [int(steps * step) for step in desired_checkpoints]\n",
    "    save_steps.sort()\n",
    "    print(f\"save_steps: {save_steps}\")\n",
    "else:\n",
    "    save_steps = None"
   ]
  },
  {
   "cell_type": "code",
   "execution_count": 16,
   "id": "9a960331",
   "metadata": {},
   "outputs": [
    {
     "name": "stdout",
     "output_type": "stream",
     "text": [
      "1105\n"
     ]
    },
    {
     "name": "stderr",
     "output_type": "stream",
     "text": [
      "Calculating norm factor:   0%|          | 0/100 [00:00<?, ?it/s]You're using a GPT2TokenizerFast tokenizer. Please note that with a fast tokenizer, using the `__call__` method is faster than using a method to encode the text followed by a call to the `pad` method to get a padded encoding.\n",
      "Calculating norm factor: 101it [01:21,  1.24it/s]                         \n"
     ]
    },
    {
     "name": "stdout",
     "output_type": "stream",
     "text": [
      "Average mean squared norm: 29.92813491821289\n",
      "Norm factor: 5.470661163330078\n"
     ]
    },
    {
     "name": "stderr",
     "output_type": "stream",
     "text": [
      "100%|██████████| 16276/16276 [25:53<00:00, 10.48it/s]\n"
     ]
    }
   ],
   "source": [
    "if (\"trainer\" not in trainer_cfg): # trainer field gets deleted during trainSAE\n",
    "    trainer_cfg[\"trainer\"] = trainer_class\n",
    "\n",
    "# train the sparse autoencoder (SAE)\n",
    "ae = trainSAE(\n",
    "    data=buffer,\n",
    "    trainer_configs=[trainer_cfg],\n",
    "    save_steps=save_steps,\n",
    "    save_dir=save_dir,\n",
    "    log_steps=log_steps,\n",
    "    steps=steps,\n",
    "    autocast_dtype=t.bfloat16, # new\n",
    "    normalize_activations=True,\n",
    ")\n"
   ]
  },
  {
   "cell_type": "code",
   "execution_count": null,
   "id": "2a2ac48e",
   "metadata": {
    "scrolled": true
   },
   "outputs": [],
   "source": [
    "\n",
    "\"\"\" from dictionary_learning_demo/demo.py\n",
    "        trainSAE(\n",
    "            data=activation_buffer,\n",
    "            trainer_configs=trainer_configs,\n",
    "            use_wandb=use_wandb,\n",
    "            steps=steps,\n",
    "            save_steps=save_steps,\n",
    "            save_dir=save_dir,\n",
    "            log_steps=log_steps,\n",
    "            wandb_project=demo_config.wandb_project,\n",
    "            normalize_activations=True,\n",
    "            verbose=False,\n",
    "            autocast_dtype=t.bfloat16,\n",
    "        )\n",
    "\"\"\""
   ]
  }
 ],
 "metadata": {
  "kernelspec": {
   "display_name": "Python 3 (ipykernel)",
   "language": "python",
   "name": "python3"
  },
  "language_info": {
   "codemirror_mode": {
    "name": "ipython",
    "version": 3
   },
   "file_extension": ".py",
   "mimetype": "text/x-python",
   "name": "python",
   "nbconvert_exporter": "python",
   "pygments_lexer": "ipython3",
   "version": "3.10.16"
  }
 },
 "nbformat": 4,
 "nbformat_minor": 5
}
